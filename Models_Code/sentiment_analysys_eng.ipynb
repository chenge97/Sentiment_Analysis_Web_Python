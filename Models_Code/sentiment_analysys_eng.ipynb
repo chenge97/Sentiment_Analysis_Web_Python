{
 "cells": [
  {
   "cell_type": "code",
   "execution_count": 1,
   "metadata": {},
   "outputs": [],
   "source": [
    "import numpy as np\n",
    "import pandas as pd\n",
    "import matplotlib.pyplot as plt\n",
    "import re\n",
    "from sklearn.pipeline import Pipeline\n",
    "df = pd.read_csv('amazon_cells_labelled.csv', header=None)"
   ]
  },
  {
   "cell_type": "code",
   "execution_count": 2,
   "metadata": {},
   "outputs": [
    {
     "data": {
      "text/html": [
       "<div>\n",
       "<style scoped>\n",
       "    .dataframe tbody tr th:only-of-type {\n",
       "        vertical-align: middle;\n",
       "    }\n",
       "\n",
       "    .dataframe tbody tr th {\n",
       "        vertical-align: top;\n",
       "    }\n",
       "\n",
       "    .dataframe thead th {\n",
       "        text-align: right;\n",
       "    }\n",
       "</style>\n",
       "<table border=\"1\" class=\"dataframe\">\n",
       "  <thead>\n",
       "    <tr style=\"text-align: right;\">\n",
       "      <th></th>\n",
       "      <th>0</th>\n",
       "      <th>1</th>\n",
       "      <th>2</th>\n",
       "      <th>3</th>\n",
       "      <th>4</th>\n",
       "      <th>5</th>\n",
       "    </tr>\n",
       "  </thead>\n",
       "  <tbody>\n",
       "    <tr>\n",
       "      <th>0</th>\n",
       "      <td>So there is no way for me to plug it in here i...</td>\n",
       "      <td>0.0</td>\n",
       "      <td>NaN</td>\n",
       "      <td>NaN</td>\n",
       "      <td>NaN</td>\n",
       "      <td>NaN</td>\n",
       "    </tr>\n",
       "    <tr>\n",
       "      <th>1</th>\n",
       "      <td>Good case. Excellent value.</td>\n",
       "      <td>1.0</td>\n",
       "      <td>NaN</td>\n",
       "      <td>NaN</td>\n",
       "      <td>NaN</td>\n",
       "      <td>NaN</td>\n",
       "    </tr>\n",
       "    <tr>\n",
       "      <th>2</th>\n",
       "      <td>Great for the jawbone.</td>\n",
       "      <td>1.0</td>\n",
       "      <td>NaN</td>\n",
       "      <td>NaN</td>\n",
       "      <td>NaN</td>\n",
       "      <td>NaN</td>\n",
       "    </tr>\n",
       "    <tr>\n",
       "      <th>3</th>\n",
       "      <td>Tied to charger for conversations lasting more...</td>\n",
       "      <td>0.0</td>\n",
       "      <td>NaN</td>\n",
       "      <td>NaN</td>\n",
       "      <td>NaN</td>\n",
       "      <td>NaN</td>\n",
       "    </tr>\n",
       "    <tr>\n",
       "      <th>4</th>\n",
       "      <td>The mic is great.</td>\n",
       "      <td>1.0</td>\n",
       "      <td>NaN</td>\n",
       "      <td>NaN</td>\n",
       "      <td>NaN</td>\n",
       "      <td>NaN</td>\n",
       "    </tr>\n",
       "  </tbody>\n",
       "</table>\n",
       "</div>"
      ],
      "text/plain": [
       "                                                   0    1    2   3   4   5\n",
       "0  So there is no way for me to plug it in here i...  0.0  NaN NaN NaN NaN\n",
       "1                        Good case. Excellent value.  1.0  NaN NaN NaN NaN\n",
       "2                             Great for the jawbone.  1.0  NaN NaN NaN NaN\n",
       "3  Tied to charger for conversations lasting more...  0.0  NaN NaN NaN NaN\n",
       "4                                  The mic is great.  1.0  NaN NaN NaN NaN"
      ]
     },
     "execution_count": 2,
     "metadata": {},
     "output_type": "execute_result"
    }
   ],
   "source": [
    "df.head()"
   ]
  },
  {
   "cell_type": "code",
   "execution_count": 3,
   "metadata": {},
   "outputs": [
    {
     "data": {
      "text/html": [
       "<div>\n",
       "<style scoped>\n",
       "    .dataframe tbody tr th:only-of-type {\n",
       "        vertical-align: middle;\n",
       "    }\n",
       "\n",
       "    .dataframe tbody tr th {\n",
       "        vertical-align: top;\n",
       "    }\n",
       "\n",
       "    .dataframe thead th {\n",
       "        text-align: right;\n",
       "    }\n",
       "</style>\n",
       "<table border=\"1\" class=\"dataframe\">\n",
       "  <thead>\n",
       "    <tr style=\"text-align: right;\">\n",
       "      <th></th>\n",
       "      <th>Message</th>\n",
       "      <th>Value</th>\n",
       "      <th>2</th>\n",
       "      <th>3</th>\n",
       "      <th>4</th>\n",
       "      <th>5</th>\n",
       "    </tr>\n",
       "  </thead>\n",
       "  <tbody>\n",
       "    <tr>\n",
       "      <th>0</th>\n",
       "      <td>So there is no way for me to plug it in here i...</td>\n",
       "      <td>0.0</td>\n",
       "      <td>NaN</td>\n",
       "      <td>NaN</td>\n",
       "      <td>NaN</td>\n",
       "      <td>NaN</td>\n",
       "    </tr>\n",
       "    <tr>\n",
       "      <th>1</th>\n",
       "      <td>Good case. Excellent value.</td>\n",
       "      <td>1.0</td>\n",
       "      <td>NaN</td>\n",
       "      <td>NaN</td>\n",
       "      <td>NaN</td>\n",
       "      <td>NaN</td>\n",
       "    </tr>\n",
       "    <tr>\n",
       "      <th>2</th>\n",
       "      <td>Great for the jawbone.</td>\n",
       "      <td>1.0</td>\n",
       "      <td>NaN</td>\n",
       "      <td>NaN</td>\n",
       "      <td>NaN</td>\n",
       "      <td>NaN</td>\n",
       "    </tr>\n",
       "    <tr>\n",
       "      <th>3</th>\n",
       "      <td>Tied to charger for conversations lasting more...</td>\n",
       "      <td>0.0</td>\n",
       "      <td>NaN</td>\n",
       "      <td>NaN</td>\n",
       "      <td>NaN</td>\n",
       "      <td>NaN</td>\n",
       "    </tr>\n",
       "    <tr>\n",
       "      <th>4</th>\n",
       "      <td>The mic is great.</td>\n",
       "      <td>1.0</td>\n",
       "      <td>NaN</td>\n",
       "      <td>NaN</td>\n",
       "      <td>NaN</td>\n",
       "      <td>NaN</td>\n",
       "    </tr>\n",
       "  </tbody>\n",
       "</table>\n",
       "</div>"
      ],
      "text/plain": [
       "                                             Message  Value    2   3   4   5\n",
       "0  So there is no way for me to plug it in here i...    0.0  NaN NaN NaN NaN\n",
       "1                        Good case. Excellent value.    1.0  NaN NaN NaN NaN\n",
       "2                             Great for the jawbone.    1.0  NaN NaN NaN NaN\n",
       "3  Tied to charger for conversations lasting more...    0.0  NaN NaN NaN NaN\n",
       "4                                  The mic is great.    1.0  NaN NaN NaN NaN"
      ]
     },
     "execution_count": 3,
     "metadata": {},
     "output_type": "execute_result"
    }
   ],
   "source": [
    "df = df.rename(columns ={0:\"Message\", 1:\"Value\"}) #Name for columns\n",
    "df.head()"
   ]
  },
  {
   "cell_type": "code",
   "execution_count": 4,
   "metadata": {},
   "outputs": [
    {
     "data": {
      "text/html": [
       "<div>\n",
       "<style scoped>\n",
       "    .dataframe tbody tr th:only-of-type {\n",
       "        vertical-align: middle;\n",
       "    }\n",
       "\n",
       "    .dataframe tbody tr th {\n",
       "        vertical-align: top;\n",
       "    }\n",
       "\n",
       "    .dataframe thead th {\n",
       "        text-align: right;\n",
       "    }\n",
       "</style>\n",
       "<table border=\"1\" class=\"dataframe\">\n",
       "  <thead>\n",
       "    <tr style=\"text-align: right;\">\n",
       "      <th></th>\n",
       "      <th>Message</th>\n",
       "      <th>Value</th>\n",
       "    </tr>\n",
       "  </thead>\n",
       "  <tbody>\n",
       "    <tr>\n",
       "      <th>0</th>\n",
       "      <td>So there is no way for me to plug it in here i...</td>\n",
       "      <td>0.0</td>\n",
       "    </tr>\n",
       "    <tr>\n",
       "      <th>1</th>\n",
       "      <td>Good case. Excellent value.</td>\n",
       "      <td>1.0</td>\n",
       "    </tr>\n",
       "    <tr>\n",
       "      <th>2</th>\n",
       "      <td>Great for the jawbone.</td>\n",
       "      <td>1.0</td>\n",
       "    </tr>\n",
       "    <tr>\n",
       "      <th>3</th>\n",
       "      <td>Tied to charger for conversations lasting more...</td>\n",
       "      <td>0.0</td>\n",
       "    </tr>\n",
       "    <tr>\n",
       "      <th>4</th>\n",
       "      <td>The mic is great.</td>\n",
       "      <td>1.0</td>\n",
       "    </tr>\n",
       "  </tbody>\n",
       "</table>\n",
       "</div>"
      ],
      "text/plain": [
       "                                             Message  Value\n",
       "0  So there is no way for me to plug it in here i...    0.0\n",
       "1                        Good case. Excellent value.    1.0\n",
       "2                             Great for the jawbone.    1.0\n",
       "3  Tied to charger for conversations lasting more...    0.0\n",
       "4                                  The mic is great.    1.0"
      ]
     },
     "execution_count": 4,
     "metadata": {},
     "output_type": "execute_result"
    }
   ],
   "source": [
    "df = df.drop([2,3,4,5], axis=1) # Dropping unnecesary columns\n",
    "df.head()"
   ]
  },
  {
   "cell_type": "code",
   "execution_count": 5,
   "metadata": {},
   "outputs": [],
   "source": [
    "df = df.dropna(axis = 0, how ='any')  #Droping possible NA"
   ]
  },
  {
   "cell_type": "code",
   "execution_count": 6,
   "metadata": {
    "scrolled": true
   },
   "outputs": [
    {
     "data": {
      "text/html": [
       "<div>\n",
       "<style scoped>\n",
       "    .dataframe tbody tr th:only-of-type {\n",
       "        vertical-align: middle;\n",
       "    }\n",
       "\n",
       "    .dataframe tbody tr th {\n",
       "        vertical-align: top;\n",
       "    }\n",
       "\n",
       "    .dataframe thead th {\n",
       "        text-align: right;\n",
       "    }\n",
       "</style>\n",
       "<table border=\"1\" class=\"dataframe\">\n",
       "  <thead>\n",
       "    <tr style=\"text-align: right;\">\n",
       "      <th></th>\n",
       "      <th>Message</th>\n",
       "      <th>Value</th>\n",
       "    </tr>\n",
       "  </thead>\n",
       "  <tbody>\n",
       "    <tr>\n",
       "      <th>0</th>\n",
       "      <td>So there is no way for me to plug it in here i...</td>\n",
       "      <td>0.0</td>\n",
       "    </tr>\n",
       "    <tr>\n",
       "      <th>1</th>\n",
       "      <td>Good case. Excellent value.</td>\n",
       "      <td>1.0</td>\n",
       "    </tr>\n",
       "    <tr>\n",
       "      <th>2</th>\n",
       "      <td>Great for the jawbone.</td>\n",
       "      <td>1.0</td>\n",
       "    </tr>\n",
       "    <tr>\n",
       "      <th>3</th>\n",
       "      <td>Tied to charger for conversations lasting more...</td>\n",
       "      <td>0.0</td>\n",
       "    </tr>\n",
       "    <tr>\n",
       "      <th>4</th>\n",
       "      <td>The mic is great.</td>\n",
       "      <td>1.0</td>\n",
       "    </tr>\n",
       "  </tbody>\n",
       "</table>\n",
       "</div>"
      ],
      "text/plain": [
       "                                             Message  Value\n",
       "0  So there is no way for me to plug it in here i...    0.0\n",
       "1                        Good case. Excellent value.    1.0\n",
       "2                             Great for the jawbone.    1.0\n",
       "3  Tied to charger for conversations lasting more...    0.0\n",
       "4                                  The mic is great.    1.0"
      ]
     },
     "execution_count": 6,
     "metadata": {},
     "output_type": "execute_result"
    }
   ],
   "source": [
    "df.head()"
   ]
  },
  {
   "cell_type": "code",
   "execution_count": 7,
   "metadata": {},
   "outputs": [
    {
     "data": {
      "text/plain": [
       "(999, 2)"
      ]
     },
     "execution_count": 7,
     "metadata": {},
     "output_type": "execute_result"
    }
   ],
   "source": [
    "df.shape"
   ]
  },
  {
   "cell_type": "code",
   "execution_count": 8,
   "metadata": {},
   "outputs": [],
   "source": [
    "df['Value'] = df.iloc[:,1].astype(int) #Changing floats to ints"
   ]
  },
  {
   "cell_type": "code",
   "execution_count": 9,
   "metadata": {},
   "outputs": [
    {
     "data": {
      "text/plain": [
       "(999, 2)"
      ]
     },
     "execution_count": 9,
     "metadata": {},
     "output_type": "execute_result"
    }
   ],
   "source": [
    "df.head()\n",
    "df.shape"
   ]
  },
  {
   "cell_type": "code",
   "execution_count": 10,
   "metadata": {},
   "outputs": [],
   "source": [
    "from nltk.corpus import stopwords\n",
    "from sklearn.feature_extraction.text import TfidfVectorizer\n",
    "from sklearn.model_selection import train_test_split\n",
    "import string"
   ]
  },
  {
   "cell_type": "code",
   "execution_count": 11,
   "metadata": {},
   "outputs": [],
   "source": [
    "text_features = df['Message']\n",
    "text_features = text_features.apply(lambda x: re.sub('[^a-z]', ' ', x.lower()))\n",
    "#Taking only lowercases"
   ]
  },
  {
   "cell_type": "code",
   "execution_count": 12,
   "metadata": {},
   "outputs": [
    {
     "name": "stdout",
     "output_type": "stream",
     "text": [
      "0      so there is no way for me to plug it in here i...\n",
      "1                            good case  excellent value \n",
      "2                                 great for the jawbone \n",
      "3      tied to charger for conversations lasting more...\n",
      "4                                      the mic is great \n",
      "5      i have to jiggle the plug to get it to line up...\n",
      "6      if you have several dozen or several hundred c...\n",
      "7            if you are razr owner   you must have this \n",
      "8                     needless to say i wasted my money \n",
      "9                       what a waste of money and time  \n",
      "10                       and the sound quality is great \n",
      "11     he was very impressed when going from the orig...\n",
      "12     if the two were seperated by a mere    ft i st...\n",
      "13                              very good quality though\n",
      "14     the design is very odd  as the ear  clip  is n...\n",
      "15     highly recommend for any one who has a blue to...\n",
      "16                   i advise everyone do not be fooled \n",
      "17                                      so far so good  \n",
      "18                                         works great  \n",
      "19     it clicks into place in a way that makes you w...\n",
      "20     i went on motorola s website and followed all ...\n",
      "21     i bought this to use with my kindle fire and a...\n",
      "22              the commercials are the most misleading \n",
      "23     i have yet to run this new battery below two b...\n",
      "24     i bought it for my mother and she had a proble...\n",
      "25                  great pocket pc   phone combination \n",
      "26     i ve owned this phone for   months now and can...\n",
      "27     i didn t think that the instructions provided ...\n",
      "28     people couldnt hear me talk and i had to pull ...\n",
      "29                                  doesn t hold charge \n",
      "                             ...                        \n",
      "970    i plugged it in only to find out not a darn th...\n",
      "971                                   excellent product \n",
      "972                          earbud piece breaks easily \n",
      "973                                       lousy product \n",
      "974    this phone tries very hard to do everything bu...\n",
      "975    it is the best charger i have seen on the mark...\n",
      "976                                    sweetest phone   \n",
      "977                   oh the charger seems to work fine \n",
      "978    it fits so securely that the ear hook does not...\n",
      "979                                   not enough volume \n",
      "980                  echo problem    very unsatisfactory\n",
      "981    you could only take   videos at a time and the...\n",
      "982                              don t waste your money \n",
      "983    i am going to have to be the first to negative...\n",
      "984    adapter does not provide enough charging current \n",
      "985    there was so much hype over this phone that i ...\n",
      "986    you also cannot take pictures with it in the c...\n",
      "987                              phone falls out easily \n",
      "988    it didn t work people can not hear me when i t...\n",
      "989    the text messaging feature is really tricky to...\n",
      "990    i m really disappointed all i have now is a ch...\n",
      "991                                  painful on the ear \n",
      "992                     lasted one day and then blew up \n",
      "993                                        disappointed \n",
      "994                                kind of flops around \n",
      "995    the screen does get smudged easily because it ...\n",
      "996    what a piece of junk   i lose more calls on th...\n",
      "997                         item does not match picture \n",
      "998    the only thing that disappoint me is the infra...\n",
      "999    you can not answer calls with the unit never w...\n",
      "Name: Message, Length: 999, dtype: object\n"
     ]
    }
   ],
   "source": [
    "print(text_features)"
   ]
  },
  {
   "cell_type": "code",
   "execution_count": 13,
   "metadata": {},
   "outputs": [],
   "source": [
    "#text_features= text_features.apply(lambda x: re.sub(' +', ' ', x))\n",
    "#print(text_features)"
   ]
  },
  {
   "cell_type": "code",
   "execution_count": 14,
   "metadata": {},
   "outputs": [
    {
     "name": "stdout",
     "output_type": "stream",
     "text": [
      "0                        way plug us unless go converter\n",
      "1                              good case excellent value\n",
      "2                                          great jawbone\n",
      "3      tied charger conversations lasting minutes maj...\n",
      "4                                              mic great\n",
      "5           jiggle plug get line right get decent volume\n",
      "6      several dozen several hundred contacts imagine...\n",
      "7                                        razr owner must\n",
      "8                              needless say wasted money\n",
      "9                                       waste money time\n",
      "10                                   sound quality great\n",
      "11     impressed going original battery extended battery\n",
      "12     two seperated mere ft started notice excessive...\n",
      "13                                   good quality though\n",
      "14                       design odd ear clip comfortable\n",
      "15                 highly recommend one blue tooth phone\n",
      "16                                advise everyone fooled\n",
      "17                                              far good\n",
      "18                                           works great\n",
      "19     clicks place way makes wonder long mechanism w...\n",
      "20     went motorola website followed directions coul...\n",
      "21               bought use kindle fire absolutely loved\n",
      "22                                commercials misleading\n",
      "23     yet run new battery two bars three days withou...\n",
      "24                         bought mother problem battery\n",
      "25                     great pocket pc phone combination\n",
      "26              owned phone months say best mobile phone\n",
      "27                   think instructions provided helpful\n",
      "28     people couldnt hear talk pull earphone talk phone\n",
      "29                                           hold charge\n",
      "                             ...                        \n",
      "970                       plugged find darn thing worked\n",
      "971                                    excellent product\n",
      "972                           earbud piece breaks easily\n",
      "973                                        lousy product\n",
      "974      phone tries hard everything fails ability phone\n",
      "975                         best charger seen market yet\n",
      "976                                       sweetest phone\n",
      "977                           oh charger seems work fine\n",
      "978    fits securely ear hook even need used sound be...\n",
      "979                                        enough volume\n",
      "980                          echo problem unsatisfactory\n",
      "981                  could take videos time quality poor\n",
      "982                                          waste money\n",
      "983                going first negatively review product\n",
      "984              adapter provide enough charging current\n",
      "985                 much hype phone assumed best mistake\n",
      "986         also cannot take pictures case lense covered\n",
      "987                                   phone falls easily\n",
      "988                                work people hear talk\n",
      "989             text messaging feature really tricky use\n",
      "990                     really disappointed charger work\n",
      "991                                          painful ear\n",
      "992                                  lasted one day blew\n",
      "993                                         disappointed\n",
      "994                                    kind flops around\n",
      "995           screen get smudged easily touches ear face\n",
      "996                          piece junk lose calls phone\n",
      "997                                   item match picture\n",
      "998                 thing disappoint infra red port irda\n",
      "999                       answer calls unit never worked\n",
      "Name: Message, Length: 999, dtype: object\n"
     ]
    }
   ],
   "source": [
    "text_features = text_features.apply(lambda x: ' '.join([word for word in x.split()\n",
    "                                                  if word not in stopwords.words('english')]))\n",
    "#Removing all unnnecesary words with stopwords\n",
    "print(text_features)"
   ]
  },
  {
   "cell_type": "code",
   "execution_count": 15,
   "metadata": {},
   "outputs": [],
   "source": [
    "vectorizer = TfidfVectorizer(\"english\") #Creating Object to classify phrases"
   ]
  },
  {
   "cell_type": "code",
   "execution_count": 16,
   "metadata": {},
   "outputs": [
    {
     "data": {
      "text/plain": [
       "(999, 1670)"
      ]
     },
     "execution_count": 16,
     "metadata": {},
     "output_type": "execute_result"
    }
   ],
   "source": [
    "features = vectorizer.fit_transform(text_features) #Transforming the data\n",
    "features.shape"
   ]
  },
  {
   "cell_type": "code",
   "execution_count": 17,
   "metadata": {},
   "outputs": [
    {
     "data": {
      "text/plain": [
       "(799, 1670)"
      ]
     },
     "execution_count": 17,
     "metadata": {},
     "output_type": "execute_result"
    }
   ],
   "source": [
    "X_train, X_test, y_train, y_test = train_test_split(features, df['Value'], test_size = 0.2, random_state=200)\n",
    "X_train.shape\n",
    "#Training and checking shapes"
   ]
  },
  {
   "cell_type": "code",
   "execution_count": 18,
   "metadata": {},
   "outputs": [
    {
     "data": {
      "text/plain": [
       "(200, 1670)"
      ]
     },
     "execution_count": 18,
     "metadata": {},
     "output_type": "execute_result"
    }
   ],
   "source": [
    "X_test.shape"
   ]
  },
  {
   "cell_type": "code",
   "execution_count": 19,
   "metadata": {},
   "outputs": [
    {
     "data": {
      "text/plain": [
       "(799,)"
      ]
     },
     "execution_count": 19,
     "metadata": {},
     "output_type": "execute_result"
    }
   ],
   "source": [
    "y_train.shape"
   ]
  },
  {
   "cell_type": "code",
   "execution_count": 20,
   "metadata": {},
   "outputs": [
    {
     "data": {
      "text/plain": [
       "(200,)"
      ]
     },
     "execution_count": 20,
     "metadata": {},
     "output_type": "execute_result"
    }
   ],
   "source": [
    "y_test.shape"
   ]
  },
  {
   "cell_type": "code",
   "execution_count": 21,
   "metadata": {},
   "outputs": [],
   "source": [
    "from sklearn.svm import SVC\n",
    "from sklearn.naive_bayes import MultinomialNB\n",
    "from sklearn.tree import DecisionTreeClassifier\n",
    "from sklearn.neighbors import KNeighborsClassifier\n",
    "from sklearn.ensemble import RandomForestClassifier\n",
    "\n",
    "'''Checking witch model is better for the classification'''"
   ]
  },
  {
   "cell_type": "code",
   "execution_count": 22,
   "metadata": {},
   "outputs": [],
   "source": [
    "svc = SVC(kernel='sigmoid', gamma=1.0)\n",
    "knc = KNeighborsClassifier(n_neighbors=2)\n",
    "mnb = MultinomialNB(alpha=0.2)\n",
    "dtc = DecisionTreeClassifier(min_samples_split=7)\n",
    "rfc = RandomForestClassifier(n_estimators=31)"
   ]
  },
  {
   "cell_type": "code",
   "execution_count": 23,
   "metadata": {},
   "outputs": [
    {
     "data": {
      "text/plain": [
       "RandomForestClassifier(bootstrap=True, class_weight=None, criterion='gini',\n",
       "            max_depth=None, max_features='auto', max_leaf_nodes=None,\n",
       "            min_impurity_split=1e-07, min_samples_leaf=1,\n",
       "            min_samples_split=2, min_weight_fraction_leaf=0.0,\n",
       "            n_estimators=31, n_jobs=1, oob_score=False, random_state=None,\n",
       "            verbose=0, warm_start=False)"
      ]
     },
     "execution_count": 23,
     "metadata": {},
     "output_type": "execute_result"
    }
   ],
   "source": [
    "mnb.fit(X_train, y_train)\n",
    "svc.fit(X_train, y_train)\n",
    "knc.fit(X_train, y_train)\n",
    "dtc.fit(X_train, y_train)\n",
    "rfc.fit(X_train, y_train)"
   ]
  },
  {
   "cell_type": "code",
   "execution_count": 24,
   "metadata": {},
   "outputs": [],
   "source": [
    "from sklearn.metrics import r2_score\n",
    "#Checking its scores"
   ]
  },
  {
   "cell_type": "code",
   "execution_count": 25,
   "metadata": {},
   "outputs": [
    {
     "name": "stdout",
     "output_type": "stream",
     "text": [
      "0.775\n"
     ]
    }
   ],
   "source": [
    "print(mnb.score(X_test,y_test))"
   ]
  },
  {
   "cell_type": "code",
   "execution_count": 26,
   "metadata": {},
   "outputs": [
    {
     "name": "stdout",
     "output_type": "stream",
     "text": [
      "0.73\n"
     ]
    }
   ],
   "source": [
    "print(knc.score(X_test,y_test))"
   ]
  },
  {
   "cell_type": "code",
   "execution_count": 27,
   "metadata": {},
   "outputs": [
    {
     "name": "stdout",
     "output_type": "stream",
     "text": [
      "0.82\n"
     ]
    }
   ],
   "source": [
    "print(svc.score(X_test,y_test))"
   ]
  },
  {
   "cell_type": "code",
   "execution_count": 28,
   "metadata": {},
   "outputs": [
    {
     "name": "stdout",
     "output_type": "stream",
     "text": [
      "0.805\n"
     ]
    }
   ],
   "source": [
    "print(dtc.score(X_test,y_test))"
   ]
  },
  {
   "cell_type": "code",
   "execution_count": 29,
   "metadata": {},
   "outputs": [
    {
     "name": "stdout",
     "output_type": "stream",
     "text": [
      "0.815\n"
     ]
    }
   ],
   "source": [
    "print(rfc.score(X_test,y_test))"
   ]
  },
  {
   "cell_type": "code",
   "execution_count": 30,
   "metadata": {},
   "outputs": [
    {
     "data": {
      "text/plain": [
       "'hate'"
      ]
     },
     "execution_count": 30,
     "metadata": {},
     "output_type": "execute_result"
    }
   ],
   "source": [
    "test = #Phrase\n",
    "delete = re.compile('[^a-zA-Z]')\n",
    "test = delete.sub(' ', test)\n",
    "test = test.lower()\n",
    "test= ' '.join([word for word in test.split()\n",
    "                   if word not in stopwords.words('english')])\n",
    "test\n",
    "#Applying the prediction"
   ]
  },
  {
   "cell_type": "code",
   "execution_count": 31,
   "metadata": {},
   "outputs": [],
   "source": [
    "tfidf_svm = Pipeline([('tfidf', vectorizer), ('svc', svc)])\n",
    "#Joining the Tfidf object model and the SVC MODEL "
   ]
  },
  {
   "cell_type": "code",
   "execution_count": 32,
   "metadata": {},
   "outputs": [
    {
     "data": {
      "text/plain": [
       "['model.pkl']"
      ]
     },
     "execution_count": 32,
     "metadata": {},
     "output_type": "execute_result"
    }
   ],
   "source": [
    "from sklearn.externals import joblib\n",
    "joblib.dump(tfidf_svm, 'model.pkl', protocol = 2)\n",
    "#Creating the file of the model"
   ]
  },
  {
   "cell_type": "code",
   "execution_count": 33,
   "metadata": {},
   "outputs": [],
   "source": [
    "loaded_model = joblib.load('model.pkl') #Loading it"
   ]
  },
  {
   "cell_type": "code",
   "execution_count": 34,
   "metadata": {},
   "outputs": [
    {
     "name": "stdout",
     "output_type": "stream",
     "text": [
      "X=h, Predicted=0\n"
     ]
    }
   ],
   "source": [
    "#testing and getting a correct answer\n",
    "result = loaded_model.predict([test])\n",
    "print(\"X=%s, Predicted=%s\" % (test[0], result[0]))"
   ]
  },
  {
   "cell_type": "code",
   "execution_count": 35,
   "metadata": {},
   "outputs": [],
   "source": [
    "#ynew = svc.predict(result)\n",
    "#print(\"X=%s, Predicted=%s\" % (result[0], ynew[0]))"
   ]
  },
  {
   "cell_type": "code",
   "execution_count": 36,
   "metadata": {},
   "outputs": [],
   "source": [
    "#filename = 'message_classifier.sav'\n",
    "#pickle.dump(svc, open(filename, 'wb'), protocol = 2)"
   ]
  },
  {
   "cell_type": "code",
   "execution_count": 37,
   "metadata": {},
   "outputs": [],
   "source": [
    "#loaded_model = pickle.load(open(filename, 'rb'))\n",
    "#ynew = loaded_model.predict(result[0])\n",
    "#print(\"X=%s, Predicted=%s\" % (result[0], ynew[0]))"
   ]
  }
 ],
 "metadata": {
  "kernelspec": {
   "display_name": "Python 3",
   "language": "python",
   "name": "python3"
  },
  "language_info": {
   "codemirror_mode": {
    "name": "ipython",
    "version": 3
   },
   "file_extension": ".py",
   "mimetype": "text/x-python",
   "name": "python",
   "nbconvert_exporter": "python",
   "pygments_lexer": "ipython3",
   "version": "3.5.4"
  }
 },
 "nbformat": 4,
 "nbformat_minor": 2
}
